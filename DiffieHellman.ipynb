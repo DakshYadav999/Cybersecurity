{
  "nbformat": 4,
  "nbformat_minor": 0,
  "metadata": {
    "colab": {
      "provenance": []
    },
    "kernelspec": {
      "name": "python3",
      "display_name": "Python 3"
    },
    "language_info": {
      "name": "python"
    }
  },
  "cells": [
    {
      "cell_type": "code",
      "execution_count": null,
      "metadata": {
        "colab": {
          "base_uri": "https://localhost:8080/"
        },
        "id": "25NnC5gZyRma",
        "outputId": "bf94bba1-0ed8-4642-82b2-6f318d0f6f0b"
      },
      "outputs": [
        {
          "output_type": "stream",
          "name": "stdout",
          "text": [
            "Enter prime number P: 11\n",
            "Enter primitive root G of P: 4\n",
            "Enter private key a for Alice: 6\n",
            "Enter private key b for Bob: 7\n",
            "\n",
            "\n",
            "**********************\n",
            "Secret key for Alice: 5\n",
            "Secret key for Bob: 5\n"
          ]
        }
      ],
      "source": [
        "def power(base, expo, m):\n",
        "    res = 1\n",
        "    base = base % m\n",
        "    while expo > 0:\n",
        "        if expo & 1:\n",
        "            res = (res * base) % m\n",
        "        base = (base * base) % m\n",
        "        expo = expo // 2\n",
        "    return res\n",
        "\n",
        "def is_prime(n):\n",
        "    if n < 2:\n",
        "        return False\n",
        "    for i in range(2, int(n**0.5) + 1):\n",
        "        if n % i == 0:\n",
        "            return False\n",
        "    return True\n",
        "\n",
        "def diffie_hellman():\n",
        "    P = int(input(\"Enter prime number P: \"))\n",
        "    while not is_prime(P):\n",
        "        print(\"Invalid input. P must be a prime number.\")\n",
        "        P = int(input(\"Enter prime number P again: \"))\n",
        "\n",
        "    G = int(input(\"Enter primitive root G of P: \"))\n",
        "    a = int(input(\"Enter private key a for Alice: \"))\n",
        "    b = int(input(\"Enter private key b for Bob: \"))\n",
        "\n",
        "    x = power(G, a, P)  # Alice's public key\n",
        "    y = power(G, b, P)  # Bob's public key\n",
        "\n",
        "    ka = power(y, a, P)  # Secret key for Alice\n",
        "    kb = power(x, b, P)  # Secret key for Bob\n",
        "\n",
        "    print(\"\\n\")\n",
        "    print(\"**********************\")\n",
        "\n",
        "    print(f\"Secret key for Alice: {ka}\")\n",
        "    print(f\"Secret key for Bob: {kb}\")\n",
        "\n",
        "if __name__ == \"__main__\":\n",
        "    diffie_hellman()"
      ]
    }
  ]
}