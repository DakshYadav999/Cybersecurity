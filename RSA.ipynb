{
  "nbformat": 4,
  "nbformat_minor": 0,
  "metadata": {
    "colab": {
      "provenance": []
    },
    "kernelspec": {
      "name": "python3",
      "display_name": "Python 3"
    },
    "language_info": {
      "name": "python"
    }
  },
  "cells": [
    {
      "cell_type": "code",
      "execution_count": null,
      "metadata": {
        "colab": {
          "base_uri": "https://localhost:8080/"
        },
        "id": "KvO24iCu2puB",
        "outputId": "e423e41d-314a-4c68-8c75-20f15c6c8c54"
      },
      "outputs": [
        {
          "output_type": "stream",
          "name": "stdout",
          "text": [
            "Enter a prime number p: 17\n",
            "Enter a prime number q: 19\n",
            "\n",
            "RSA Key Pair Generated Successfully!\n",
            "Public Key: (e=5, n=323)\n",
            "Private Key: (d=173, n=323)\n",
            "\n",
            "Enter a message to encrypt: HELLO\n",
            "\n",
            "Encrypted Message: [21, 103, 247, 247, 129]\n",
            "Decrypted Message: HELLO\n"
          ]
        }
      ],
      "source": [
        "import random\n",
        "\n",
        "# Function to compute GCD\n",
        "def gcd(a, b):\n",
        "    while b != 0:\n",
        "        a, b = b, a % b\n",
        "    return a\n",
        "\n",
        "# Function to check if a number is prime\n",
        "def is_prime(n):\n",
        "    if n < 2:\n",
        "        return False\n",
        "    for i in range(2, int(n**0.5) + 1):\n",
        "        if n % i == 0:\n",
        "            return False\n",
        "    return True\n",
        "\n",
        "# Function to find the modular inverse of e (d such that (e*d) % phi == 1)\n",
        "def mod_inverse(e, phi):\n",
        "    for d in range(2, phi):\n",
        "        if (e * d) % phi == 1:\n",
        "            return d\n",
        "    return -1\n",
        "\n",
        "# Function to generate RSA keys\n",
        "def generate_keys():\n",
        "    # Choose two large prime numbers p and q\n",
        "    p = int(input(\"Enter a prime number p: \"))\n",
        "    while not is_prime(p):\n",
        "        print(\"Invalid input. p must be a prime number.\")\n",
        "        p = int(input(\"Enter prime number p again: \"))\n",
        "\n",
        "    q = int(input(\"Enter a prime number q: \"))\n",
        "    while not is_prime(q):\n",
        "        print(\"Invalid input. q must be a prime number.\")\n",
        "        q = int(input(\"Enter prime number q again: \"))\n",
        "\n",
        "    # Compute n and phi(n)\n",
        "    n = p * q\n",
        "    phi = (p - 1) * (q - 1)\n",
        "\n",
        "    # Choose public exponent e (must be coprime with phi)\n",
        "    e = 0\n",
        "    for i in range(3, phi, 2):  # Start from 3 and check odd numbers\n",
        "        if gcd(i, phi) == 1:\n",
        "            e = i\n",
        "            break\n",
        "\n",
        "    # Compute private key d\n",
        "    d = mod_inverse(e, phi)\n",
        "\n",
        "    print(\"\\nRSA Key Pair Generated Successfully!\")\n",
        "    print(f\"Public Key: (e={e}, n={n})\")\n",
        "    print(f\"Private Key: (d={d}, n={n})\\n\")\n",
        "\n",
        "    return e, d, n\n",
        "\n",
        "def power(base, expo, mod):\n",
        "    res = 1\n",
        "    base = base % mod\n",
        "    while expo > 0:\n",
        "        if expo % 2 == 1:\n",
        "            res = (res * base) % mod\n",
        "        base = (base * base) % mod\n",
        "        expo //= 2\n",
        "    return res\n",
        "\n",
        "# Function to encrypt a message\n",
        "def encrypt(message, e, n):\n",
        "    encrypted_message = [power(ord(char), e, n) for char in message]\n",
        "    return encrypted_message\n",
        "\n",
        "# Function to decrypt a message\n",
        "def decrypt(encrypted_message, d, n):\n",
        "    decrypted_message = ''.join(chr(power(char, d, n)) for char in encrypted_message)\n",
        "    return decrypted_message\n",
        "\n",
        "# Main program execution\n",
        "if __name__ == \"__main__\":\n",
        "    e, d, n = generate_keys()\n",
        "\n",
        "    # Get user input for encryption\n",
        "    message = input(\"Enter a message to encrypt: \")\n",
        "    encrypted = encrypt(message, e, n)\n",
        "    print(f\"\\nEncrypted Message: {encrypted}\")\n",
        "\n",
        "    # Decrypt the message\n",
        "    decrypted = decrypt(encrypted, d, n)\n",
        "    print(f\"Decrypted Message: {decrypted}\")\n"
      ]
    }
  ]
}