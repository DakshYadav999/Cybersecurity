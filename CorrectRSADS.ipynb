{
  "nbformat": 4,
  "nbformat_minor": 0,
  "metadata": {
    "colab": {
      "provenance": []
    },
    "kernelspec": {
      "name": "python3",
      "display_name": "Python 3"
    },
    "language_info": {
      "name": "python"
    }
  },
  "cells": [
    {
      "cell_type": "code",
      "execution_count": null,
      "metadata": {
        "colab": {
          "base_uri": "https://localhost:8080/"
        },
        "id": "NREvfyH7WE8-",
        "outputId": "310f5473-8801-4e32-ecf7-5b6be184ea03"
      },
      "outputs": [
        {
          "output_type": "stream",
          "name": "stdout",
          "text": [
            "Enter a Message :Hello World\n",
            "Enter Two Prime Numbers:\n",
            "5\n",
            "13\n",
            "Public Key: (19, 65)\n",
            "Private Key: (43, 65)\n",
            "Sender's Message Digest : 39\n",
            "Sender's Signature (Encrypted Hash): 39\n",
            "Receiver's Message Digest : 39\n",
            "Receiver's Unpacked Hash : 39\n",
            "Signature Verified Successfully!\n"
          ]
        }
      ],
      "source": [
        "import random\n",
        "import hashlib\n",
        "\n",
        "def hash_function(pt):\n",
        "    pt = hashlib.sha256(pt.encode('utf-8')).hexdigest()\n",
        "    return pt\n",
        "\n",
        "def checkPrime(n):\n",
        "    if n < 2:\n",
        "        return False\n",
        "    for i in range(2, int(n ** 0.5) + 1):\n",
        "        if n % i == 0:\n",
        "            return False\n",
        "    return True\n",
        "\n",
        "def gcd(a, b):\n",
        "    while b:\n",
        "        a, b = b, a % b\n",
        "    return a\n",
        "\n",
        "def generate_keys(p, q):\n",
        "    if not (checkPrime(p) and checkPrime(q)):\n",
        "        raise ValueError(\"Invalid Prime Numbers\")\n",
        "\n",
        "    n = p * q\n",
        "    fi = (p - 1) * (q - 1)\n",
        "\n",
        "    e = random.choice([i for i in range(2, fi) if gcd(i, fi) == 1])\n",
        "\n",
        "    def mod_inverse(e, fi):\n",
        "        for d in range(2, fi):\n",
        "            if (d * e) % fi == 1:\n",
        "                return d\n",
        "        return None\n",
        "\n",
        "    d = mod_inverse(e, fi)\n",
        "    if d is None:\n",
        "        raise ValueError(\"Failed to find modular inverse\")\n",
        "\n",
        "    return ((e, n), (d, n))  # Public and Private keys\n",
        "\n",
        "\n",
        "def generate_signature(msg, private_key):\n",
        "    d, n = private_key\n",
        "    digest = hash_function(msg)\n",
        "    digest_int = int(digest, 16) % n # Convert hex digest to integer\n",
        "    print(\"Sender's Message Digest :\", digest_int)\n",
        "    signature = pow(digest_int, d, n)  # signature = hash^d mod n\n",
        "    print(\"Sender's Signature (Encrypted Hash):\", signature)\n",
        "    return signature\n",
        "\n",
        "def verify_signature(msg, signature, public_key):\n",
        "    e, n = public_key\n",
        "    digest = hash_function(msg)\n",
        "    digest_int = int(digest, 16) % n\n",
        "    print(\"Receiver's Message Digest :\", digest_int)\n",
        "    decrypted_hash = pow(signature, e, n)  # decrypted = signature^e mod n\n",
        "    print(\"Receiver's Unpacked Hash :\", decrypted_hash)\n",
        "    return digest_int == decrypted_hash\n",
        "\n",
        "def main():\n",
        "    msg = input(\"Enter a Message :\")\n",
        "    print(\"Enter Two Prime Numbers:\")\n",
        "    p = int(input())\n",
        "    q = int(input())\n",
        "\n",
        "    public_key, private_key = generate_keys(p, q)\n",
        "    print(f\"Public Key: {public_key}\")\n",
        "    print(f\"Private Key: {private_key}\")\n",
        "\n",
        "    signature = generate_signature(msg, private_key)\n",
        "    # msg += 'F'\n",
        "    if verify_signature(msg, signature, public_key):\n",
        "        print(\"Signature Verified Successfully!\")\n",
        "    else:\n",
        "        print(\"Signature Verification Failed!\")\n",
        "\n",
        "if __name__ == \"__main__\":\n",
        "    main()"
      ]
    }
  ]
}