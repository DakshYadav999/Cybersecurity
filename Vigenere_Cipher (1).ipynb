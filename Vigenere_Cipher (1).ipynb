{
  "nbformat": 4,
  "nbformat_minor": 0,
  "metadata": {
    "colab": {
      "provenance": []
    },
    "kernelspec": {
      "name": "python3",
      "display_name": "Python 3"
    },
    "language_info": {
      "name": "python"
    }
  },
  "cells": [
    {
      "cell_type": "code",
      "source": [
        "def generate_key(text, key):\n",
        "    key = list(key)\n",
        "    if len(text) == len(key):\n",
        "        return \"\".join(key)\n",
        "    else:\n",
        "        for i in range(len(text) - len(key)):\n",
        "            key.append(key[i % len(key)])\n",
        "    return \"\".join(key)\n",
        "\n",
        "def encrypt(text, key):\n",
        "    cipher_text = []\n",
        "    for i in range(len(text)):\n",
        "        if text[i].isalpha():\n",
        "            x = (ord(text[i].upper()) + ord(key[i].upper())) % 26\n",
        "            x += ord('A')\n",
        "            cipher_text.append(chr(x))\n",
        "        else:\n",
        "            cipher_text.append(text[i])\n",
        "    return \"\".join(cipher_text)\n",
        "\n",
        "def decrypt(cipher_text, key):\n",
        "    orig_text = []\n",
        "    for i in range(len(cipher_text)):\n",
        "        if cipher_text[i].isalpha():\n",
        "            x = (ord(cipher_text[i].upper()) - ord(key[i].upper()) + 26) % 26\n",
        "            x += ord('A')\n",
        "            orig_text.append(chr(x))\n",
        "        else:\n",
        "            orig_text.append(cipher_text[i])\n",
        "    return \"\".join(orig_text)\n",
        "\n",
        "def get_valid_key():\n",
        "    while True:\n",
        "        key = input(\"Enter the key (alphabets only): \").strip()\n",
        "        if key.isalpha():\n",
        "            return key\n",
        "        else:\n",
        "            print(\"Invalid key! Please use only alphabetic characters.\\n\")\n",
        "\n",
        "if __name__ == \"__main__\":\n",
        "    choice = input(\"Do you want to (E)ncrypt or (D)ecrypt? \").strip().upper()\n",
        "\n",
        "    if choice == \"E\":\n",
        "        text = input(\"Enter the plaintext: \").strip()\n",
        "        key = get_valid_key()\n",
        "        key = generate_key(text, key)\n",
        "        encrypted = encrypt(text, key)\n",
        "        print(\"\\nEncrypted Text:\", encrypted)\n",
        "\n",
        "    elif choice == \"D\":\n",
        "        text = input(\"Enter the ciphertext: \").strip()\n",
        "        key = get_valid_key()\n",
        "        key = generate_key(text, key)\n",
        "        decrypted = decrypt(text, key)\n",
        "        print(\"\\nDecrypted Text:\", decrypted)\n",
        "\n",
        "    else:\n",
        "        print(\"Invalid choice. Please enter E for encryption or D for decryption.\")\n"
      ],
      "metadata": {
        "colab": {
          "base_uri": "https://localhost:8080/"
        },
        "id": "9yCQNmb9eeg0",
        "outputId": "9297fff3-c92e-4ad7-b13c-e340168d0e68"
      },
      "execution_count": null,
      "outputs": [
        {
          "output_type": "stream",
          "name": "stdout",
          "text": [
            "Do you want to (E)ncrypt or (D)ecrypt? E\n",
            "Enter the plaintext: HELLOWORLD\n",
            "Enter the key (alphabets only): 23\n",
            "Invalid key! Please use only alphabetic characters.\n",
            "\n",
            "Enter the key (alphabets only): KEY\n",
            "\n",
            "Encrypted Text: RIJVSUYVJN\n"
          ]
        }
      ]
    },
    {
      "cell_type": "code",
      "source": [],
      "metadata": {
        "id": "5fiss1QNV7Bw"
      },
      "execution_count": null,
      "outputs": []
    }
  ]
}