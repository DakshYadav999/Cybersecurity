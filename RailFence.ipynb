{
  "nbformat": 4,
  "nbformat_minor": 0,
  "metadata": {
    "colab": {
      "provenance": []
    },
    "kernelspec": {
      "name": "python3",
      "display_name": "Python 3"
    },
    "language_info": {
      "name": "python"
    }
  },
  "cells": [
    {
      "cell_type": "code",
      "execution_count": null,
      "metadata": {
        "colab": {
          "base_uri": "https://localhost:8080/"
        },
        "id": "Mfkui7qroN1A",
        "outputId": "81d9e2db-ce6e-4893-db6b-24681e3a01c6"
      },
      "outputs": [
        {
          "output_type": "stream",
          "name": "stdout",
          "text": [
            "Enter plaintext: HeLlO wOrlD@$%\n",
            "Enter key (number of rails): 6\n",
            "Ciphertext: HDel@Lr$lO%Ow \n"
          ]
        }
      ],
      "source": [
        "def rail_fence_encrypt(text, key):\n",
        "    rail = [['\\n' for _ in range(len(text))] for _ in range(key)]\n",
        "\n",
        "    dir_down = False\n",
        "    row, col = 0, 0\n",
        "\n",
        "    for i in range(len(text)):\n",
        "        if row == 0 or row == key - 1:\n",
        "            dir_down = not dir_down\n",
        "\n",
        "        rail[row][col] = text[i]\n",
        "        col += 1\n",
        "\n",
        "        row += 1 if dir_down else -1\n",
        "\n",
        "    result = []\n",
        "    for i in range(key):\n",
        "        for j in range(len(text)):\n",
        "            if rail[i][j] != '\\n':\n",
        "                result.append(rail[i][j])\n",
        "\n",
        "    return \"\".join(result)\n",
        "\n",
        "def main():\n",
        "    text = input(\"Enter plaintext: \")\n",
        "    key = int(input(\"Enter key (number of rails): \"))\n",
        "    ciphertext = rail_fence_encrypt(text, key)\n",
        "    print(f\"Ciphertext: {ciphertext}\")\n",
        "\n",
        "if __name__ == \"__main__\":\n",
        "    main()\n"
      ]
    }
  ]
}