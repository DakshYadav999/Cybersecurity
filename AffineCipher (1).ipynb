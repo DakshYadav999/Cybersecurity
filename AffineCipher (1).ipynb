{
  "cells": [
    {
      "cell_type": "code",
      "execution_count": null,
      "metadata": {
        "colab": {
          "base_uri": "https://localhost:8080/"
        },
        "id": "ib0JKt7GR6JB",
        "outputId": "f88ee1f5-b118-4fdf-e26a-5a99786457e5"
      },
      "outputs": [
        {
          "output_type": "stream",
          "name": "stdout",
          "text": [
            "Enter key 'a' (must be coprime with 26): 3\n",
            "Enter key 'b' (0 to 25): 6\n",
            "Encrypt or Decrypt? (encrypt/decrypt): encrypt\n",
            "Enter text: hello\n",
            "\n",
            "Result: bsnnw\n"
          ]
        }
      ],
      "source": [
        "import math\n",
        "\n",
        "def mod_inverse(a, m=26):\n",
        "    for i in range(1, m):\n",
        "        if (a * i) % m == 1:\n",
        "            return i\n",
        "    return None\n",
        "\n",
        "def is_valid_key(a, b):\n",
        "    return math.gcd(a, 26) == 1 and 0 <= b <= 25\n",
        "\n",
        "def affine_encrypt(text, a, b):\n",
        "    if not is_valid_key(a, b):\n",
        "        return \"Invalid key! 'a' must be coprime with 26 and 0 <= b <= 25.\"\n",
        "\n",
        "    encrypted_text = \"\"\n",
        "    for char in text:\n",
        "        if char.isalpha():\n",
        "            x = ord(char.lower()) - ord('a')\n",
        "            y = (a * x + b) % 26\n",
        "            new_char = chr(y + ord('a'))\n",
        "            encrypted_text += new_char.upper() if char.isupper() else new_char\n",
        "        else:\n",
        "            encrypted_text += char\n",
        "\n",
        "    return encrypted_text\n",
        "\n",
        "def affine_decrypt(text, a, b):\n",
        "    if not is_valid_key(a, b):\n",
        "        return \"Invalid key! 'a' must be coprime with 26 and 0 <= b <= 25.\"\n",
        "\n",
        "    a_inv = mod_inverse(a, 26)\n",
        "    if a_inv is None:\n",
        "        return \"Invalid key! 'a' has no modular inverse under mod 26.\"\n",
        "\n",
        "    decrypted_text = \"\"\n",
        "    for char in text:\n",
        "        if char.isalpha():\n",
        "            y = ord(char.lower()) - ord('a')\n",
        "            x = (a_inv * (y - b)) % 26\n",
        "            new_char = chr(x + ord('a'))\n",
        "            decrypted_text += new_char.upper() if char.isupper() else new_char\n",
        "        else:\n",
        "            decrypted_text += char\n",
        "\n",
        "    return decrypted_text\n",
        "\n",
        "while True:\n",
        "    try:\n",
        "        a = int(input(\"Enter key 'a' (must be coprime with 26): \"))\n",
        "        b = int(input(\"Enter key 'b' (0 to 25): \"))\n",
        "        if is_valid_key(a, b):\n",
        "            break\n",
        "        print(\"Invalid key! 'a' must be coprime with 26 and 0 <= b <= 25.\")\n",
        "    except ValueError:\n",
        "        print(\"Please enter valid numbers!\")\n",
        "\n",
        "mode = input(\"Encrypt or Decrypt? (encrypt/decrypt): \").strip().lower()\n",
        "while mode not in [\"encrypt\", \"decrypt\"]:\n",
        "    mode = input(\"Invalid choice! Enter 'encrypt' or 'decrypt': \").strip().lower()\n",
        "\n",
        "text = input(\"Enter text: \")\n",
        "\n",
        "if mode == \"encrypt\":\n",
        "    result = affine_encrypt(text, a, b)\n",
        "else:\n",
        "    result = affine_decrypt(text, a, b)\n",
        "\n",
        "print(\"\\nResult:\", result)\n"
      ]
    }
  ],
  "metadata": {
    "colab": {
      "provenance": []
    },
    "kernelspec": {
      "display_name": "Python 3",
      "name": "python3"
    },
    "language_info": {
      "name": "python"
    }
  },
  "nbformat": 4,
  "nbformat_minor": 0
}