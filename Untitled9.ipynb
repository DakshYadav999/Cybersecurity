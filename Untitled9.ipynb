{
  "nbformat": 4,
  "nbformat_minor": 0,
  "metadata": {
    "colab": {
      "provenance": []
    },
    "kernelspec": {
      "name": "python3",
      "display_name": "Python 3"
    },
    "language_info": {
      "name": "python"
    }
  },
  "cells": [
    {
      "cell_type": "code",
      "execution_count": null,
      "metadata": {
        "id": "iCjltMrzSbj0"
      },
      "outputs": [],
      "source": [
        "def rc4_encrypt(key: str, plaintext: str) -> str:\n",
        "\n",
        "    key_length = len(key)\n",
        "    S = list(range(256))\n",
        "    j = 0\n",
        "\n",
        "\n",
        "    for i in range(256):\n",
        "        j = (j + S[i] + ord(key[i % key_length])) % 256\n",
        "        S[i], S[j] = S[j], S[i]\n",
        "\n",
        "\n",
        "    i = 0\n",
        "    j = 0\n",
        "    keystream = []\n",
        "\n",
        "    for char in plaintext:\n",
        "        i = (i + 1) % 256\n",
        "        j = (j + S[i]) % 256\n",
        "        S[i], S[j] = S[j], S[i]\n",
        "        K = S[(S[i] + S[j]) % 256]\n",
        "        keystream.append(chr(ord(char) ^ K))\n",
        "\n",
        "    return ''.join(keystream)\n",
        "\n",
        "def rc4_decrypt(key: str, ciphertext: str) -> str:\n",
        "\n",
        "    return rc4_encrypt(key, ciphertext)\n",
        "\n",
        "def is_valid_key(key: str) -> bool:\n",
        "\n",
        "    return len(key) > 0 and len(key) <= 32\n",
        "\n",
        "def main():\n",
        "\n",
        "    key = input(\"Enter the key (1-32 characters): \")\n",
        "\n",
        "\n",
        "    if not is_valid_key(key):\n",
        "        print(\"Invalid key! The key must be between 1 and 32 characters long.\")\n",
        "        return\n",
        "\n",
        "    plaintext = input(\"Enter the plaintext: \")\n",
        "\n",
        "\n",
        "    ciphertext = rc4_encrypt(key, plaintext)\n",
        "    print(\"Ciphertext (hex):\", ''.join(format(ord(c), '02x') for c in ciphertext))\n",
        "\n",
        "    decrypted_text = rc4_decrypt(key, ciphertext)\n",
        "    print(\"Decrypted text:\", decrypted_text)\n",
        "\n",
        "if __name__ == \"__main__\":\n",
        "    main()"
      ]
    }
  ]
}