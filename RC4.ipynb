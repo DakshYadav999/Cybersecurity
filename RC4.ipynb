{
  "nbformat": 4,
  "nbformat_minor": 0,
  "metadata": {
    "colab": {
      "provenance": []
    },
    "kernelspec": {
      "name": "python3",
      "display_name": "Python 3"
    },
    "language_info": {
      "name": "python"
    }
  },
  "cells": [
    {
      "cell_type": "code",
      "execution_count": null,
      "metadata": {
        "colab": {
          "base_uri": "https://localhost:8080/"
        },
        "id": "qoOJqHGoZNCF",
        "outputId": "f53e0547-cb03-454e-b16e-10f52300cd99"
      },
      "outputs": [
        {
          "output_type": "stream",
          "name": "stdout",
          "text": [
            "Enter plaintext: hello daksh\n",
            "Enter key: 123\n",
            "ASCII Values of Plaintext: [104, 101, 108, 108, 111, 32, 100, 97, 107, 115, 104]\n",
            "Ciphertext: 3B95D3EE8A54609A4E106B\n"
          ]
        }
      ],
      "source": [
        "def KSA(key):\n",
        "    key_length = len(key)\n",
        "    S = list(range(256))\n",
        "    j = 0\n",
        "    for i in range(256):\n",
        "        j = (j + S[i] + key[i % key_length]) % 256\n",
        "        S[i], S[j] = S[j], S[i]\n",
        "    return S\n",
        "\n",
        "def PRGA(S, n):\n",
        "    i = j = 0\n",
        "    key_stream = []\n",
        "    for _ in range(n):\n",
        "        i = (i + 1) % 256\n",
        "        j = (j + S[i]) % 256\n",
        "        S[i], S[j] = S[j], S[i]\n",
        "        key_stream.append(S[(S[i] + S[j]) % 256])\n",
        "    return key_stream\n",
        "\n",
        "def RC4_encrypt(plaintext, key):\n",
        "    key = [ord(c) for c in key]\n",
        "    S = KSA(key)\n",
        "    key_stream = PRGA(S, len(plaintext))\n",
        "    plaintext_ascii = [ord(c) for c in plaintext]\n",
        "    print(f\"ASCII Values of Plaintext: {plaintext_ascii}\")\n",
        "\n",
        "    ciphertext = [p ^ k for p, k in zip(plaintext_ascii, key_stream)]\n",
        "\n",
        "    return ''.join(format(c, '02X') for c in ciphertext)\n",
        "\n",
        "def main():\n",
        "    plaintext = input(\"Enter plaintext: \")\n",
        "    key = input(\"Enter key: \")\n",
        "\n",
        "    ciphertext = RC4_encrypt(plaintext, key)\n",
        "    print(f\"Ciphertext: {ciphertext}\")\n",
        "\n",
        "if __name__ == \"__main__\":\n",
        "    main()\n"
      ]
    }
  ]
}