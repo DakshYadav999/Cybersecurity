{
  "nbformat": 4,
  "nbformat_minor": 0,
  "metadata": {
    "colab": {
      "provenance": []
    },
    "kernelspec": {
      "name": "python3",
      "display_name": "Python 3"
    },
    "language_info": {
      "name": "python"
    }
  },
  "cells": [
    {
      "cell_type": "code",
      "execution_count": null,
      "metadata": {
        "colab": {
          "base_uri": "https://localhost:8080/"
        },
        "id": "r6W3u_9mL2sN",
        "outputId": "dc7f0633-e935-43c0-f820-61f9deac08ba"
      },
      "outputs": [
        {
          "output_type": "stream",
          "name": "stdout",
          "text": [
            "Enter shift key (0 to 25): 5\n",
            "Encrypt or Decrypt? (encrypt/decrypt): decrypt\n",
            "Enter text: mjqqt\n",
            "\n",
            "Result: hello\n"
          ]
        }
      ],
      "source": [
        "def caesar_cipher(text, key, mode):\n",
        "\n",
        "    if mode == \"decrypt\":\n",
        "        key = -key\n",
        "\n",
        "    result = \"\"\n",
        "    for char in text:\n",
        "        if char.isalpha():\n",
        "            shift = key % 26\n",
        "            new_char = chr(((ord(char.lower()) - ord('a') + shift) % 26) + ord('a'))\n",
        "            result += new_char.upper() if char.isupper() else new_char\n",
        "        else:\n",
        "            result += char\n",
        "\n",
        "    return result\n",
        "\n",
        "def is_valid_key(key):\n",
        "    return key.isdigit() and 0 <= int(key) <= 25\n",
        "while True:\n",
        "    key = input(\"Enter shift key (0 to 25): \")\n",
        "\n",
        "    if is_valid_key(key):\n",
        "        key = int(key)\n",
        "        break\n",
        "\n",
        "    print(\"Invalid key! Please enter a number between 0 and 25.\")  # Retry if invalid\n",
        "\n",
        "mode = input(\"Encrypt or Decrypt? (encrypt/decrypt): \").strip().lower()\n",
        "\n",
        "while mode not in [\"encrypt\", \"decrypt\"]:  # Ensure valid mode input\n",
        "    print(\"Invalid choice! Please enter 'encrypt' or 'decrypt'.\")\n",
        "    mode = input(\"Encrypt or Decrypt? (encrypt/decrypt): \").strip().lower()\n",
        "\n",
        "text = input(\"Enter text: \")  # Get the text to process\n",
        "\n",
        "result = caesar_cipher(text, key, mode)\n",
        "\n",
        "print(\"\\nResult:\", result)"
      ]
    }
  ]
}