{
  "nbformat": 4,
  "nbformat_minor": 0,
  "metadata": {
    "colab": {
      "provenance": []
    },
    "kernelspec": {
      "name": "python3",
      "display_name": "Python 3"
    },
    "language_info": {
      "name": "python"
    }
  },
  "cells": [
    {
      "cell_type": "code",
      "execution_count": null,
      "metadata": {
        "colab": {
          "base_uri": "https://localhost:8080/"
        },
        "id": "3lOONQWOIFZ8",
        "outputId": "a004ebd2-f64e-44f0-dd16-650d26de50d7"
      },
      "outputs": [
        {
          "output_type": "stream",
          "name": "stdout",
          "text": [
            "Enter the message to hash: 1\n",
            "Hashed Message: 6b86b273ff34fce19d6b804eff5a3f5747ada4eaa22f1d49c01e52ddb7875b4b\n"
          ]
        }
      ],
      "source": [
        "import hashlib\n",
        "\n",
        "def compute_sha256_hash(message):\n",
        "    message_bytes = message.encode('utf-8')\n",
        "    sha256_hash = hashlib.sha256()\n",
        "    sha256_hash.update(message_bytes)\n",
        "    hash_hex = sha256_hash.hexdigest()\n",
        "    return hash_hex\n",
        "\n",
        "input_message = input(\"Enter the message to hash: \")\n",
        "hash_result = compute_sha256_hash(input_message)\n",
        "print(f\"Hashed Message: {hash_result}\")\n"
      ]
    }
  ]
}